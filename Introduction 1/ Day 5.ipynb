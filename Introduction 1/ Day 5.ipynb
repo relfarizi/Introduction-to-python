{
  "nbformat": 4,
  "nbformat_minor": 0,
  "metadata": {
    "kernelspec": {
      "display_name": "Python 3",
      "language": "python",
      "name": "python3"
    },
    "language_info": {
      "codemirror_mode": {
        "name": "ipython",
        "version": 3
      },
      "file_extension": ".py",
      "mimetype": "text/x-python",
      "name": "python",
      "nbconvert_exporter": "python",
      "pygments_lexer": "ipython3",
      "version": "3.7.7"
    },
    "colab": {
      "name": "Rafanzhaniel@gmail.com.ipynb",
      "provenance": [],
      "include_colab_link": true
    }
  },
  "cells": [
    {
      "cell_type": "markdown",
      "metadata": {
        "id": "view-in-github",
        "colab_type": "text"
      },
      "source": [
        "<a href=\"https://colab.research.google.com/github/relfarizi/Introduction-to-python/blob/master/Introduction%201/%20Day%205.ipynb\" target=\"_parent\"><img src=\"https://colab.research.google.com/assets/colab-badge.svg\" alt=\"Open In Colab\"/></a>"
      ]
    },
    {
      "cell_type": "markdown",
      "metadata": {
        "id": "0AIc5cnaj_Fp",
        "colab_type": "text"
      },
      "source": [
        "<h2>Quiz 1 : Akses Dictionary</h2>\n",
        "\n",
        "Lengkapi kode untuk menghasilkan suatu output yang di harapkan"
      ]
    },
    {
      "cell_type": "code",
      "metadata": {
        "id": "KKT17tIAj_Fv",
        "colab_type": "code",
        "colab": {
          "base_uri": "https://localhost:8080/",
          "height": 53
        },
        "outputId": "b076894c-9092-428a-c87b-2a792cdbfa2d"
      },
      "source": [
        "europe = {'spain':'madrid', 'france':'paris', 'germany':'berlin', 'norway':'oslo' }\n",
        "\n",
        "# print semua key yang ada di objek europe\n",
        "print(europe.keys())\n",
        "# print nilai dari key franche\n",
        "print(europe[\"france\"])"
      ],
      "execution_count": 3,
      "outputs": [
        {
          "output_type": "stream",
          "text": [
            "dict_keys(['spain', 'france', 'germany', 'norway'])\n",
            "paris\n"
          ],
          "name": "stdout"
        }
      ]
    },
    {
      "cell_type": "markdown",
      "metadata": {
        "id": "J7dTKNyuj_F4",
        "colab_type": "text"
      },
      "source": [
        "Expected Output :\n",
        "\n",
        "dict_keys(['spain', 'france', 'germany', 'norway'])\n",
        "\n",
        "paris"
      ]
    },
    {
      "cell_type": "markdown",
      "metadata": {
        "id": "Z16ZX5dKj_F5",
        "colab_type": "text"
      },
      "source": [
        "<h2>Quiz 2 : Menambahkan key-value baru ke Dictionary</h2>\n",
        "\n",
        "Lengkapi kode untuk menghasilkan suatu output yang di harapkan"
      ]
    },
    {
      "cell_type": "code",
      "metadata": {
        "id": "T6cT7HXfj_F6",
        "colab_type": "code",
        "colab": {
          "base_uri": "https://localhost:8080/",
          "height": 35
        },
        "outputId": "5a102a54-0480-478d-c5fa-8fc37fbd54fe"
      },
      "source": [
        "europe = {'spain':'madrid', 'france':'paris', 'germany':'berlin', 'norway':'oslo' }\n",
        "\n",
        "# tambahkan key itali ke objek dictionary dengan value roma\n",
        "europe['france'] = 'roma'\n",
        "\n",
        "# cek apakah itali ada di dalam objek dictionary\n",
        "print('france' in europe.keys())"
      ],
      "execution_count": 4,
      "outputs": [
        {
          "output_type": "stream",
          "text": [
            "True\n"
          ],
          "name": "stdout"
        }
      ]
    },
    {
      "cell_type": "markdown",
      "metadata": {
        "id": "_eRHxr83j_GG",
        "colab_type": "text"
      },
      "source": [
        "Expected Output :\n",
        "    \n",
        "True"
      ]
    },
    {
      "cell_type": "markdown",
      "metadata": {
        "id": "TRcPP5_mj_GH",
        "colab_type": "text"
      },
      "source": [
        "<h2>Quiz 3 : Update dan Remove Dictinary</h2>\n",
        "    \n",
        "Lengkapi kode untuk menghasilkan suatu output yang di harapkan"
      ]
    },
    {
      "cell_type": "code",
      "metadata": {
        "id": "-Um9bkNvj_GI",
        "colab_type": "code",
        "colab": {
          "base_uri": "https://localhost:8080/",
          "height": 35
        },
        "outputId": "e9ceb1f4-2572-4137-bb95-4df82f06a701"
      },
      "source": [
        "europe = {'spain':'madrid', 'france':'paris', 'germany':'bonn',\n",
        "          'norway':'oslo', 'italy':'rome', 'poland':'warsaw',\n",
        "          'australia':'vienna' }\n",
        "\n",
        "# update nilai ibukota german ke berlin\n",
        "europe['germany'] = 'berlin'\n",
        "\n",
        "# remove australia dari europa\n",
        "del europe['australia']\n",
        "\n",
        "print(europe)"
      ],
      "execution_count": 6,
      "outputs": [
        {
          "output_type": "stream",
          "text": [
            "{'spain': 'madrid', 'france': 'paris', 'germany': 'berlin', 'norway': 'oslo', 'italy': 'rome', 'poland': 'warsaw'}\n"
          ],
          "name": "stdout"
        }
      ]
    },
    {
      "cell_type": "markdown",
      "metadata": {
        "id": "DzlRzFmWj_GV",
        "colab_type": "text"
      },
      "source": [
        "Expected Output :\n",
        "\n",
        "{'spain': 'madrid', 'france': 'paris', 'germany': 'berlin', 'norway': 'oslo', 'italy': 'rome', 'poland': 'warsaw'}"
      ]
    },
    {
      "cell_type": "markdown",
      "metadata": {
        "id": "RU-Kx3uXj_GW",
        "colab_type": "text"
      },
      "source": [
        "<h2>Quiz 4 : Nested Dictionary</h2>\n",
        "    \n",
        "Lengkapi kode untuk menghasilkan suatu output yang di harapkan"
      ]
    },
    {
      "cell_type": "code",
      "metadata": {
        "id": "31Wvfs2Mj_GX",
        "colab_type": "code",
        "colab": {
          "base_uri": "https://localhost:8080/",
          "height": 73
        },
        "outputId": "0afd6523-4ac0-402e-91c2-42d9794cd5f9"
      },
      "source": [
        "country = { \n",
        "           'spain': { 'capital':'madrid', 'population':46.77 },\n",
        "           'france': { 'capital':'paris', 'population':66.03 },\n",
        "           'germany': { 'capital':'berlin', 'population':80.62 },\n",
        "           'norway': { 'capital':'oslo', 'population':5.084 } \n",
        "         }\n",
        "\n",
        "# berapa populasi dari kota german?\n",
        "print(country['germany']['population'])\n",
        "\n",
        "# update data baru, yaitu negara indonesia dengan capital jakarta dan poulasi 250\n",
        "country['indonesia'] = {'capital' : 'jakarta', 'population' : 250}\n",
        "\n",
        "print(country)"
      ],
      "execution_count": 10,
      "outputs": [
        {
          "output_type": "stream",
          "text": [
            "80.62\n",
            "{'spain': {'capital': 'madrid', 'population': 46.77}, 'france': {'capital': 'paris', 'population': 66.03}, 'germany': {'capital': 'berlin', 'population': 80.62}, 'norway': {'capital': 'oslo', 'population': 5.084}, 'indonesia': {'capital': 'jakarta', 'population': 250}}\n"
          ],
          "name": "stdout"
        }
      ]
    },
    {
      "cell_type": "markdown",
      "metadata": {
        "id": "miLfWHybj_Gd",
        "colab_type": "text"
      },
      "source": [
        "Expected Output :\n",
        "\n",
        "80.62\n",
        "\n",
        "{'spain': {'capital': 'madrid', 'population': 46.77}, 'france': {'capital': 'paris', 'population': 66.03}, 'germany': {'capital': 'berlin', 'population': 80.62}, 'norway': {'capital': 'oslo', 'population': 5.084}, 'indonesia': {'capital': 'jakarta', 'population': 250}}"
      ]
    },
    {
      "cell_type": "markdown",
      "metadata": {
        "id": "g6pfJQh7j_Gf",
        "colab_type": "text"
      },
      "source": [
        "<h2>Quiz 5 : Loop Dictionary</h2>\n",
        "    \n",
        "Lengkapi kode untuk menghasilkan suatu output yang di harapkan"
      ]
    },
    {
      "cell_type": "code",
      "metadata": {
        "id": "4Hd21_Imj_Gg",
        "colab_type": "code",
        "colab": {
          "base_uri": "https://localhost:8080/",
          "height": 108
        },
        "outputId": "7810dfcb-0d81-4621-e9f5-04dd02dbd5e3"
      },
      "source": [
        "country = { \n",
        "           'spain': { 'capital':'madrid', 'population':46.77 },\n",
        "           'france': { 'capital':'paris', 'population':66.03 },\n",
        "           'germany': { 'capital':'berlin', 'population':80.62 },\n",
        "           'norway': { 'capital':'oslo', 'population':5.084 },\n",
        "           'indonesia' : {'capital':'jakarta', 'population':250}\n",
        "         }\n",
        "\n",
        "for x in country:\n",
        "    print('Ibukota '+x+' adalah '+country[x]['capital'])"
      ],
      "execution_count": 15,
      "outputs": [
        {
          "output_type": "stream",
          "text": [
            "Ibukota spain adalah madrid\n",
            "Ibukota france adalah paris\n",
            "Ibukota germany adalah berlin\n",
            "Ibukota norway adalah oslo\n",
            "Ibukota indonesia adalah jakarta\n"
          ],
          "name": "stdout"
        }
      ]
    },
    {
      "cell_type": "markdown",
      "metadata": {
        "id": "mIz_Un41j_Gn",
        "colab_type": "text"
      },
      "source": [
        "Expected Output :\n",
        "    \n",
        "Ibukota spain adalah madrid\n",
        "\n",
        "Ibukota france adalah paris\n",
        "\n",
        "Ibukota germany adalah berlin\n",
        "\n",
        "Ibukota norway adalah oslo\n",
        "\n",
        "Ibukota indonesia adalah jakarta"
      ]
    },
    {
      "cell_type": "code",
      "metadata": {
        "id": "XetIsiPUj_Go",
        "colab_type": "code",
        "colab": {}
      },
      "source": [
        ""
      ],
      "execution_count": 0,
      "outputs": []
    }
  ]
}