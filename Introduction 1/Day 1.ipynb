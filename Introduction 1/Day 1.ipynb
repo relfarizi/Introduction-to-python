{
  "nbformat": 4,
  "nbformat_minor": 0,
  "metadata": {
    "kernelspec": {
      "display_name": "Python 3",
      "language": "python",
      "name": "python3"
    },
    "language_info": {
      "codemirror_mode": {
        "name": "ipython",
        "version": 3
      },
      "file_extension": ".py",
      "mimetype": "text/x-python",
      "name": "python",
      "nbconvert_exporter": "python",
      "pygments_lexer": "ipython3",
      "version": "3.7.7"
    },
    "colab": {
      "name": "Rafanzhaniel@gmail.com.ipynb",
      "provenance": [],
      "collapsed_sections": [],
      "include_colab_link": true
    }
  },
  "cells": [
    {
      "cell_type": "markdown",
      "metadata": {
        "id": "view-in-github",
        "colab_type": "text"
      },
      "source": [
        "<a href=\"https://colab.research.google.com/github/relfarizi/Introduction-to-python/blob/master/Day%201.ipynb\" target=\"_parent\"><img src=\"https://colab.research.google.com/assets/colab-badge.svg\" alt=\"Open In Colab\"/></a>"
      ]
    },
    {
      "cell_type": "markdown",
      "metadata": {
        "id": "AMY1CiTbT5Y6",
        "colab_type": "text"
      },
      "source": [
        "<h2>Quiz 1 : Hello World to Python</h2>\n",
        "    \n",
        "Print Say Hello World to Python"
      ]
    },
    {
      "cell_type": "code",
      "metadata": {
        "id": "MqVv6k11T5Y7",
        "colab_type": "code",
        "outputId": "c7c3a232-ca6e-4010-a910-4a1a6c10cc96",
        "colab": {
          "base_uri": "https://localhost:8080/",
          "height": 35
        }
      },
      "source": [
        "print(\"Hello World to Python\")"
      ],
      "execution_count": 0,
      "outputs": [
        {
          "output_type": "stream",
          "text": [
            "Hello World to Python\n"
          ],
          "name": "stdout"
        }
      ]
    },
    {
      "cell_type": "markdown",
      "metadata": {
        "id": "z_KNH8DfT5ZE",
        "colab_type": "text"
      },
      "source": [
        "Expected Output : \n",
        "\n",
        "Hello World Python"
      ]
    },
    {
      "cell_type": "markdown",
      "metadata": {
        "id": "hd7JyxMUT5ZF",
        "colab_type": "text"
      },
      "source": [
        "<h2>Quiz 2 : Aritmatika di Python </h2>\n",
        "    \n",
        "- Buat statement pertambahan antara 2 number di Python\n",
        "- Buat statement perkurangan antara 2 number di Python\n",
        "- Buat statement perkalian antara 2 number di Python\n",
        "- Buat statement pembagian antara 2 number di Python"
      ]
    },
    {
      "cell_type": "code",
      "metadata": {
        "id": "vZOX9GpyT5ZG",
        "colab_type": "code",
        "outputId": "799e4cb9-11a4-434e-f3b3-eaa9ce379479",
        "colab": {
          "base_uri": "https://localhost:8080/",
          "height": 90
        }
      },
      "source": [
        "a = 32.5\n",
        "b = 2.5\n",
        "print(a+b)\n",
        "print(a-b)\n",
        "print(a*b)\n",
        "print(a/b)"
      ],
      "execution_count": 0,
      "outputs": [
        {
          "output_type": "stream",
          "text": [
            "35.0\n",
            "30.0\n",
            "81.25\n",
            "13.0\n"
          ],
          "name": "stdout"
        }
      ]
    },
    {
      "cell_type": "markdown",
      "metadata": {
        "id": "k5kOkyi8T5ZL",
        "colab_type": "text"
      },
      "source": [
        "<h2>Quiz 3 : Assign Variable dan Tipe Data Integer, Float </h2>\n",
        "\n",
        "- Buat suatu variabel a dan b, dimana a dan b adalah nilai bertipe data numeric\n",
        "- Berikan suatu nilai bertipe data integer, hasil pembagian dari a dengan b\n",
        "- Berikan suatu nilai bertipe data float, hasil pembagian dari a dengan b"
      ]
    },
    {
      "cell_type": "code",
      "metadata": {
        "id": "nlbaCxDXT5ZM",
        "colab_type": "code",
        "colab": {
          "base_uri": "https://localhost:8080/",
          "height": 53
        },
        "outputId": "e8789a4b-90b5-44e6-e4cc-c58414f7c226"
      },
      "source": [
        "a = 10.0\n",
        "b = 5.0\n",
        "\n",
        "print(int(a/b))\n",
        "print(float(a/b))"
      ],
      "execution_count": 2,
      "outputs": [
        {
          "output_type": "stream",
          "text": [
            "2\n",
            "2.0\n"
          ],
          "name": "stdout"
        }
      ]
    },
    {
      "cell_type": "markdown",
      "metadata": {
        "id": "o03w9tSpT5ZU",
        "colab_type": "text"
      },
      "source": [
        "<h2>Quiz 4 : String Operation </h2>\n",
        "\n",
        "- masukan nama depan kamu kedalam suatu variable firstname\n",
        "- masukan nama belakang kamu kedalam suatu variable lasname\n",
        "- tampilkan suatu kalimat 'Hello sanbercode, saya firstname lastname! saya siap belajar python data science.'"
      ]
    },
    {
      "cell_type": "code",
      "metadata": {
        "id": "CRdLHSefT5ZV",
        "colab_type": "code",
        "outputId": "6032503e-1bf7-413d-e05b-2d8cd87627ac",
        "colab": {
          "base_uri": "https://localhost:8080/",
          "height": 35
        }
      },
      "source": [
        "firstname = \"Rafanzhani\"\n",
        "lastname = \" Elfarizy\"\n",
        "print(\"Hello sanbercode, saya \"+firstname+lastname+\"! saya siap belajar python data science.\")"
      ],
      "execution_count": 0,
      "outputs": [
        {
          "output_type": "stream",
          "text": [
            "Hello sanbercode, saya Rafanzhani Elfarizy! saya siap belajar python data science.\n"
          ],
          "name": "stdout"
        }
      ]
    },
    {
      "cell_type": "markdown",
      "metadata": {
        "id": "6cvP0EwoT5ZZ",
        "colab_type": "text"
      },
      "source": [
        "Expected Output :\n",
        "\n",
        "Hello sanbercode, saya fauzan taufik! saya siap belajar python data science."
      ]
    },
    {
      "cell_type": "markdown",
      "metadata": {
        "id": "c8y1-sVjT5ZZ",
        "colab_type": "text"
      },
      "source": [
        "<h2>Quiz 5 : Tipe Data</h2>\n",
        "\n",
        "Lengkapi code di bawah ini untuk menghasilkan output yang sesuai"
      ]
    },
    {
      "cell_type": "code",
      "metadata": {
        "id": "y_EeFvcYT5Za",
        "colab_type": "code",
        "outputId": "cf527d16-4f5f-4196-d423-9caf3c53596e",
        "colab": {
          "base_uri": "https://localhost:8080/",
          "height": 35
        }
      },
      "source": [
        "p = 9.99999\n",
        "q = 'the number : '\n",
        "print(q + str(p))"
      ],
      "execution_count": 0,
      "outputs": [
        {
          "output_type": "stream",
          "text": [
            "the number : 9.99999\n"
          ],
          "name": "stdout"
        }
      ]
    },
    {
      "cell_type": "markdown",
      "metadata": {
        "id": "c7wFDJg_T5Ze",
        "colab_type": "text"
      },
      "source": [
        "Expected Output :\n",
        "\n",
        "the number : 9.99999"
      ]
    },
    {
      "cell_type": "code",
      "metadata": {
        "id": "awaUqQiPT5Zg",
        "colab_type": "code",
        "colab": {}
      },
      "source": [
        ""
      ],
      "execution_count": 0,
      "outputs": []
    }
  ]
}