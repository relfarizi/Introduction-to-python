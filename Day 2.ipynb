{
  "nbformat": 4,
  "nbformat_minor": 0,
  "metadata": {
    "kernelspec": {
      "display_name": "Python 3",
      "language": "python",
      "name": "python3"
    },
    "language_info": {
      "codemirror_mode": {
        "name": "ipython",
        "version": 3
      },
      "file_extension": ".py",
      "mimetype": "text/x-python",
      "name": "python",
      "nbconvert_exporter": "python",
      "pygments_lexer": "ipython3",
      "version": "3.7.7"
    },
    "colab": {
      "name": "Rafanzhaniel@gmail.com.ipynb",
      "provenance": [],
      "collapsed_sections": [],
      "include_colab_link": true
    }
  },
  "cells": [
    {
      "cell_type": "markdown",
      "metadata": {
        "id": "view-in-github",
        "colab_type": "text"
      },
      "source": [
        "<a href=\"https://colab.research.google.com/github/relfarizi/Introduction-to-python/blob/master/Day%202.ipynb\" target=\"_parent\"><img src=\"https://colab.research.google.com/assets/colab-badge.svg\" alt=\"Open In Colab\"/></a>"
      ]
    },
    {
      "cell_type": "markdown",
      "metadata": {
        "id": "m2VWq6g9szIv",
        "colab_type": "text"
      },
      "source": [
        "<h2>Quiz 1 : Sifat List</h2>\n",
        "\n",
        "Jawab Pertanyaan di bawah ini :\n",
        "\n",
        "Jenis data apa saja yang bisa ada di dalam List?"
      ]
    },
    {
      "cell_type": "markdown",
      "metadata": {
        "id": "YkzaneVvszI0",
        "colab_type": "text"
      },
      "source": [
        "Semua jenis tipe data bisa berada dalam list"
      ]
    },
    {
      "cell_type": "markdown",
      "metadata": {
        "id": "XD1fT351szI2",
        "colab_type": "text"
      },
      "source": [
        "<h2>Quiz 2 : Akses List</h2>\n",
        "\n",
        "Lengkapi kode untuk menghasilkan suatu output yang di harapkan"
      ]
    },
    {
      "cell_type": "code",
      "metadata": {
        "id": "qXKteY88szI5",
        "colab_type": "code",
        "colab": {
          "base_uri": "https://localhost:8080/",
          "height": 35
        },
        "outputId": "009cb1b3-df9d-4793-a085-e8e42147c898"
      },
      "source": [
        "a = ['1', '13b', 'aa1', 1.32, 22.1, 2.34]\n",
        "\n",
        "# slicing list\n",
        "print(a[1:5])"
      ],
      "execution_count": 30,
      "outputs": [
        {
          "output_type": "stream",
          "text": [
            "['13b', 'aa1', 1.32, 22.1]\n"
          ],
          "name": "stdout"
        }
      ]
    },
    {
      "cell_type": "markdown",
      "metadata": {
        "id": "4Qp2wjmOszJJ",
        "colab_type": "text"
      },
      "source": [
        "Expected Output :\n",
        "\n",
        "[ '13b', 'aa1', 1.32, 22.1 ]"
      ]
    },
    {
      "cell_type": "markdown",
      "metadata": {
        "id": "qf7YmOZzszJL",
        "colab_type": "text"
      },
      "source": [
        "<h2>Quiz 3 : Nested List</h2>\n",
        "\n",
        "Lengkapi kode untuk menghasilkan suatu output yang di harapkan"
      ]
    },
    {
      "cell_type": "code",
      "metadata": {
        "id": "JCac4gPfszJO",
        "colab_type": "code",
        "colab": {
          "base_uri": "https://localhost:8080/",
          "height": 35
        },
        "outputId": "76a5b5bc-493c-4f53-e054-a66256671088"
      },
      "source": [
        "a = [1.32, 22.1, 2.34]\n",
        "b = ['1', '13b', 'aa1']\n",
        "c = [3, 40, 100]\n",
        "\n",
        "# combine list\n",
        "d = [a,c,b]\n",
        "print(d)"
      ],
      "execution_count": 31,
      "outputs": [
        {
          "output_type": "stream",
          "text": [
            "[[1.32, 22.1, 2.34], [3, 40, 100], ['1', '13b', 'aa1']]\n"
          ],
          "name": "stdout"
        }
      ]
    },
    {
      "cell_type": "markdown",
      "metadata": {
        "id": "mNzKeR8hszJk",
        "colab_type": "text"
      },
      "source": [
        "Expected Output :\n",
        "\n",
        "[ [1.32, 22.1, 2.34], [3, 40, 100], ['1', '13b', 'aa1'] ]"
      ]
    },
    {
      "cell_type": "markdown",
      "metadata": {
        "id": "zKS3e_kTszJm",
        "colab_type": "text"
      },
      "source": [
        "<h2>Quiz 4 : Akses Nested List</h2>\n",
        "\n",
        "Lengkapi kode untuk menghasilkan suatu output yang di harapkan"
      ]
    },
    {
      "cell_type": "code",
      "metadata": {
        "id": "IhFh_WCzszJo",
        "colab_type": "code",
        "colab": {
          "base_uri": "https://localhost:8080/",
          "height": 35
        },
        "outputId": "e0d49b95-9a75-4ec3-cc49-9991fcb19b4f"
      },
      "source": [
        "a = [\n",
        "    [5, 9, 8],\n",
        "    [0, 0, 6]\n",
        "    ]\n",
        "\n",
        "# subsetting list\n",
        "print(a[1][1:])"
      ],
      "execution_count": 32,
      "outputs": [
        {
          "output_type": "stream",
          "text": [
            "[0, 6]\n"
          ],
          "name": "stdout"
        }
      ]
    },
    {
      "cell_type": "markdown",
      "metadata": {
        "id": "mk5EMa6pszJ2",
        "colab_type": "text"
      },
      "source": [
        "Expected Output :\n",
        "\n",
        "\n",
        "[0, 6]"
      ]
    },
    {
      "cell_type": "markdown",
      "metadata": {
        "id": "sTVLtrqCszJ4",
        "colab_type": "text"
      },
      "source": [
        "<h2>Quiz 5 : Built in Function List</h2>\n",
        "\n",
        "Lengkapi kode untuk menghasilkan suatu output yang di harapkan"
      ]
    },
    {
      "cell_type": "code",
      "metadata": {
        "id": "oCz3O7gAszJ6",
        "colab_type": "code",
        "colab": {
          "base_uri": "https://localhost:8080/",
          "height": 53
        },
        "outputId": "79229999-369e-45fc-9af7-7191d4818bd7"
      },
      "source": [
        "p = [0, 5, 2, 10, 4, 9]\n",
        "# ordered list\n",
        "print(sorted(p, reverse=False))\n",
        "# get max value of list\n",
        "print(max(p))"
      ],
      "execution_count": 33,
      "outputs": [
        {
          "output_type": "stream",
          "text": [
            "[0, 2, 4, 5, 9, 10]\n",
            "10\n"
          ],
          "name": "stdout"
        }
      ]
    },
    {
      "cell_type": "markdown",
      "metadata": {
        "id": "Nejk71aWszKE",
        "colab_type": "text"
      },
      "source": [
        "Expected Output :\n",
        "\n",
        "[0, 2, 4, 5, 9, 10]\n",
        "\n",
        "10"
      ]
    },
    {
      "cell_type": "markdown",
      "metadata": {
        "id": "OEU53cA_szKG",
        "colab_type": "text"
      },
      "source": [
        "<h2>Quiz 6 : List Operation</h2>\n",
        "\n",
        "Lengkapi kode untuk menghasilkan suatu output yang di harapkan"
      ]
    },
    {
      "cell_type": "code",
      "metadata": {
        "id": "N-dxC1qYszKJ",
        "colab_type": "code",
        "colab": {
          "base_uri": "https://localhost:8080/",
          "height": 35
        },
        "outputId": "d26f558e-8b61-466d-c186-28b946fa4b25"
      },
      "source": [
        "a = [1, 3, 5]\n",
        "b = [5, 1, 3]\n",
        "# combine list\n",
        "b = b + a\n",
        "print(b)"
      ],
      "execution_count": 34,
      "outputs": [
        {
          "output_type": "stream",
          "text": [
            "[5, 1, 3, 1, 3, 5]\n"
          ],
          "name": "stdout"
        }
      ]
    },
    {
      "cell_type": "markdown",
      "metadata": {
        "id": "g0xy9HZrszKV",
        "colab_type": "text"
      },
      "source": [
        "Expected Output :\n",
        "\n",
        "[5, 1, 3, 1, 3, 5]"
      ]
    },
    {
      "cell_type": "markdown",
      "metadata": {
        "id": "cggENDN4szKX",
        "colab_type": "text"
      },
      "source": [
        "<h2>Quiz 7 : List Manipulation</h2>\n",
        "\n",
        "Lengkapi kode untuk menghasilkan suatu output yang di harapkan"
      ]
    },
    {
      "cell_type": "code",
      "metadata": {
        "id": "GOZQAPg9szKa",
        "colab_type": "code",
        "colab": {
          "base_uri": "https://localhost:8080/",
          "height": 35
        },
        "outputId": "57843990-a7b6-4457-d0a5-18a492fe73ff"
      },
      "source": [
        "a = [\n",
        "    [5, 9, 8],\n",
        "    [0, 0, 6]\n",
        "    ]\n",
        "# change list value\n",
        "a[0][2] = 10 \n",
        "# change list value\n",
        "a[1][0] = 11\n",
        "print(a)"
      ],
      "execution_count": 28,
      "outputs": [
        {
          "output_type": "stream",
          "text": [
            "[[5, 9, 10], [11, 0, 6]]\n"
          ],
          "name": "stdout"
        }
      ]
    },
    {
      "cell_type": "markdown",
      "metadata": {
        "id": "iYHFRJW7szKl",
        "colab_type": "text"
      },
      "source": [
        "Expected Output :\n",
        "\n",
        "[ [5, 9, 10], [11, 0, 6] ]"
      ]
    },
    {
      "cell_type": "markdown",
      "metadata": {
        "id": "dSTDqY9iszKn",
        "colab_type": "text"
      },
      "source": [
        "<h2>Quiz 8 : Delete Element List</h2>\n",
        "\n",
        "Lengkapi kode untuk menghasilkan suatu output yang di harapkan"
      ]
    },
    {
      "cell_type": "code",
      "metadata": {
        "id": "hTQNLWiUszKq",
        "colab_type": "code",
        "colab": {
          "base_uri": "https://localhost:8080/",
          "height": 35
        },
        "outputId": "5c80bdd7-a361-40fe-b6ce-4aede5718d0f"
      },
      "source": [
        "areas = [\"hallway\", 11.25, \"kitchen\", 18.0,\n",
        "        \"chill zone\", 20.0, \"bedroom\", 10.75,\n",
        "         \"bathroom\", 10.50, \"poolhouse\", 24.5,\n",
        "         \"garage\", 15.45]\n",
        "\n",
        "# Hilangkan elemen yang bernilai \"bathroom\" dan 10.50 dalam satu statement code\n",
        "del areas[8:9]\n",
        "print(areas)"
      ],
      "execution_count": 29,
      "outputs": [
        {
          "output_type": "stream",
          "text": [
            "['hallway', 11.25, 'kitchen', 18.0, 'chill zone', 20.0, 'bedroom', 10.75, 10.5, 'poolhouse', 24.5, 'garage', 15.45]\n"
          ],
          "name": "stdout"
        }
      ]
    },
    {
      "cell_type": "markdown",
      "metadata": {
        "id": "ZeF61jc_szK1",
        "colab_type": "text"
      },
      "source": [
        "Expected Output :\n",
        "\n",
        "['hallway',\n",
        " 11.25,\n",
        " 'kitchen',\n",
        " 18.0,\n",
        " 'chill zone',\n",
        " 20.0,\n",
        " 'bedroom',\n",
        " 10.75,\n",
        " 'poolhouse',\n",
        " 24.5,\n",
        " 'garage',\n",
        " 15.45]\n",
        "\n"
      ]
    },
    {
      "cell_type": "code",
      "metadata": {
        "id": "S7nYAe1PszK3",
        "colab_type": "code",
        "colab": {}
      },
      "source": [
        ""
      ],
      "execution_count": 0,
      "outputs": []
    }
  ]
}